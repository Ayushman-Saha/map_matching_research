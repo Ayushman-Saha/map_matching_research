{
 "cells": [
  {
   "cell_type": "code",
   "id": "initial_id",
   "metadata": {
    "collapsed": true,
    "ExecuteTime": {
     "end_time": "2024-12-10T10:09:19.261931Z",
     "start_time": "2024-12-10T10:09:19.257646Z"
    }
   },
   "source": [
    "import osmnx as ox\n",
    "import networkx as nx\n",
    "import numpy as np\n",
    "import random\n",
    "from matplotlib import pyplot as plt"
   ],
   "outputs": [],
   "execution_count": 29
  },
  {
   "metadata": {
    "ExecuteTime": {
     "end_time": "2024-12-10T10:21:51.255121Z",
     "start_time": "2024-12-10T10:21:42.336301Z"
    }
   },
   "cell_type": "code",
   "source": [
    "graph = ox.load_graphml(\"../india_highways.graphml\")\n",
    "# graph = ox.convert.to_undirected(graph)"
   ],
   "id": "2d5e38038611f32c",
   "outputs": [],
   "execution_count": 49
  },
  {
   "metadata": {
    "ExecuteTime": {
     "end_time": "2024-12-10T10:22:15.287313Z",
     "start_time": "2024-12-10T10:22:14.303487Z"
    }
   },
   "cell_type": "code",
   "source": [
    "G = nx.DiGraph(graph)\n",
    "source = list(G.nodes())[3]"
   ],
   "id": "6fe2d25d9f233336",
   "outputs": [],
   "execution_count": 53
  },
  {
   "metadata": {
    "ExecuteTime": {
     "end_time": "2024-12-10T10:22:15.410495Z",
     "start_time": "2024-12-10T10:22:15.300802Z"
    }
   },
   "cell_type": "code",
   "source": [
    "connected_components = nx.number_weakly_connected_components(G)\n",
    "print(connected_components)"
   ],
   "id": "bfd8761d39bc7e52",
   "outputs": [
    {
     "name": "stdout",
     "output_type": "stream",
     "text": [
      "34\n"
     ]
    }
   ],
   "execution_count": 54
  },
  {
   "metadata": {
    "ExecuteTime": {
     "end_time": "2024-12-10T11:15:19.962613Z",
     "start_time": "2024-12-10T11:15:19.950125Z"
    }
   },
   "cell_type": "code",
   "source": [
    "start_node = source\n",
    "start_node = 2290795717\n",
    "max_depth = 200\n",
    "\n",
    "layers = {}\n",
    "visited = set()\n",
    "queue = [(source, 0)]  # (node, layer)\n",
    "\n",
    "while queue:\n",
    "    node, layer = queue.pop(0)\n",
    "    if node in visited:\n",
    "        continue\n",
    "    visited.add(node)\n",
    "\n",
    "    # Add the node to its corresponding layer\n",
    "    if layer not in layers:\n",
    "        layers[layer] = []\n",
    "    layers[layer].append(node)\n",
    "\n",
    "    # Add neighbors to the queue for the next layer\n",
    "    for neighbor in graph.neighbors(node):\n",
    "        if neighbor not in visited:\n",
    "            queue.append((neighbor, layer + 1))\n",
    "            \n",
    "for layer in layers.keys():\n",
    "    print(f\"{layer}: {layers[layer]}\")"
   ],
   "id": "30d84df7d87dbf4a",
   "outputs": [
    {
     "name": "stdout",
     "output_type": "stream",
     "text": [
      "0: [1705557606]\n",
      "1: [1705557609]\n",
      "2: [8118751128, 1705557619]\n",
      "3: [4771639867, 3833705188, 1705557616]\n",
      "4: [1880655543, 1288165301, 1705557634, 1705557612]\n",
      "5: [299270146, 1444103394, 1794814265, 8118723067]\n",
      "6: [2787298132, 1794821119, 1794814298, 8118723068]\n",
      "7: [1794821112, 299713642, 2419037756, 8118723057]\n",
      "8: [5157095793, 2419037753, 299669428, 8118723045]\n",
      "9: [8118723069, 8118723077, 8118751132]\n",
      "10: [8118723078]\n",
      "11: [8118723086, 8118723041]\n",
      "12: [8118723030]\n"
     ]
    }
   ],
   "execution_count": 57
  },
  {
   "metadata": {
    "ExecuteTime": {
     "end_time": "2024-12-10T11:15:22.148341Z",
     "start_time": "2024-12-10T11:15:21.972529Z"
    }
   },
   "cell_type": "code",
   "source": [
    "all_walk = []  # To store all unique walks\n",
    "unique_walks = set()  # To track unique walks\n",
    "n = 50000  # Number of times to run the random walk\n",
    "\n",
    "for _ in range(n):\n",
    "    # Reset the walk for each run\n",
    "    walk = [start_node]\n",
    "    current_layer = 0\n",
    "    \n",
    "    while current_layer < max_depth:\n",
    "        current_node = walk[-1]\n",
    "        next_layer = current_layer + 1\n",
    "\n",
    "        # Get valid neighbors in the next layer\n",
    "        valid_next_nodes = [\n",
    "            node for node in layers.get(next_layer, [])\n",
    "            if node in G.neighbors(current_node) and node not in walk\n",
    "        ]\n",
    "\n",
    "        # If no valid next nodes, break\n",
    "        if not valid_next_nodes:\n",
    "            break\n",
    "\n",
    "        # Randomly select the next node\n",
    "        next_node = np.random.choice(valid_next_nodes)\n",
    "        walk.append(next_node)\n",
    "        current_layer += 1\n",
    "\n",
    "    # Convert walk to tuple for hashing and check uniqueness\n",
    "    walk_tuple = tuple(walk)\n",
    "    if walk_tuple in unique_walks:\n",
    "        continue  # Skip duplicate walks\n",
    "\n",
    "    # Add walk to the set of unique paths\n",
    "    unique_walks.add(walk_tuple)\n",
    "\n",
    "    # Calculate the length of the route only for unique walks\n",
    "    route = ox.routing.route_to_gdf(graph, walk)\n",
    "    route = route.to_crs(epsg=4326)\n",
    "    route_length = sum(route['length'])\n",
    "\n",
    "    # Save the walk and its length\n",
    "    all_walk.append({\n",
    "        \"route\": walk,\n",
    "        \"route_length\": route_length\n",
    "    })\n"
   ],
   "id": "9ea42613d8aac40f",
   "outputs": [
    {
     "ename": "ValueError",
     "evalue": "Graph contains no edges.",
     "output_type": "error",
     "traceback": [
      "\u001B[0;31m---------------------------------------------------------------------------\u001B[0m",
      "\u001B[0;31mValueError\u001B[0m                                Traceback (most recent call last)",
      "Cell \u001B[0;32mIn[58], line 38\u001B[0m\n\u001B[1;32m     35\u001B[0m unique_walks\u001B[38;5;241m.\u001B[39madd(walk_tuple)\n\u001B[1;32m     37\u001B[0m \u001B[38;5;66;03m# Calculate the length of the route only for unique walks\u001B[39;00m\n\u001B[0;32m---> 38\u001B[0m route \u001B[38;5;241m=\u001B[39m ox\u001B[38;5;241m.\u001B[39mrouting\u001B[38;5;241m.\u001B[39mroute_to_gdf(graph, walk)\n\u001B[1;32m     39\u001B[0m route \u001B[38;5;241m=\u001B[39m route\u001B[38;5;241m.\u001B[39mto_crs(epsg\u001B[38;5;241m=\u001B[39m\u001B[38;5;241m4326\u001B[39m)\n\u001B[1;32m     40\u001B[0m route_length \u001B[38;5;241m=\u001B[39m \u001B[38;5;28msum\u001B[39m(route[\u001B[38;5;124m'\u001B[39m\u001B[38;5;124mlength\u001B[39m\u001B[38;5;124m'\u001B[39m])\n",
      "File \u001B[0;32m~/miniconda3/lib/python3.12/site-packages/osmnx/routing.py:204\u001B[0m, in \u001B[0;36mroute_to_gdf\u001B[0;34m(G, route, weight)\u001B[0m\n\u001B[1;32m    202\u001B[0m pairs \u001B[38;5;241m=\u001B[39m \u001B[38;5;28mzip\u001B[39m(route[:\u001B[38;5;241m-\u001B[39m\u001B[38;5;241m1\u001B[39m], route[\u001B[38;5;241m1\u001B[39m:])\n\u001B[1;32m    203\u001B[0m uvk \u001B[38;5;241m=\u001B[39m ((u, v, \u001B[38;5;28mmin\u001B[39m(G[u][v]\u001B[38;5;241m.\u001B[39mitems(), key\u001B[38;5;241m=\u001B[39m\u001B[38;5;28;01mlambda\u001B[39;00m i: i[\u001B[38;5;241m1\u001B[39m][weight])[\u001B[38;5;241m0\u001B[39m]) \u001B[38;5;28;01mfor\u001B[39;00m u, v \u001B[38;5;129;01min\u001B[39;00m pairs)\n\u001B[0;32m--> 204\u001B[0m \u001B[38;5;28;01mreturn\u001B[39;00m convert\u001B[38;5;241m.\u001B[39mgraph_to_gdfs(G\u001B[38;5;241m.\u001B[39msubgraph(route), nodes\u001B[38;5;241m=\u001B[39m\u001B[38;5;28;01mFalse\u001B[39;00m)\u001B[38;5;241m.\u001B[39mloc[uvk]\n",
      "File \u001B[0;32m~/miniconda3/lib/python3.12/site-packages/osmnx/convert.py:169\u001B[0m, in \u001B[0;36mgraph_to_gdfs\u001B[0;34m(G, nodes, edges, node_geometry, fill_edge_geometry)\u001B[0m\n\u001B[1;32m    167\u001B[0m \u001B[38;5;28;01mif\u001B[39;00m \u001B[38;5;28mlen\u001B[39m(G\u001B[38;5;241m.\u001B[39medges) \u001B[38;5;241m==\u001B[39m \u001B[38;5;241m0\u001B[39m:  \u001B[38;5;66;03m# pragma: no cover\u001B[39;00m\n\u001B[1;32m    168\u001B[0m     msg \u001B[38;5;241m=\u001B[39m \u001B[38;5;124m\"\u001B[39m\u001B[38;5;124mGraph contains no edges.\u001B[39m\u001B[38;5;124m\"\u001B[39m\n\u001B[0;32m--> 169\u001B[0m     \u001B[38;5;28;01mraise\u001B[39;00m \u001B[38;5;167;01mValueError\u001B[39;00m(msg)\n\u001B[1;32m    171\u001B[0m u, v, k, data \u001B[38;5;241m=\u001B[39m \u001B[38;5;28mzip\u001B[39m(\u001B[38;5;241m*\u001B[39mG\u001B[38;5;241m.\u001B[39medges(keys\u001B[38;5;241m=\u001B[39m\u001B[38;5;28;01mTrue\u001B[39;00m, data\u001B[38;5;241m=\u001B[39m\u001B[38;5;28;01mTrue\u001B[39;00m))\n\u001B[1;32m    173\u001B[0m \u001B[38;5;28;01mif\u001B[39;00m fill_edge_geometry:\n\u001B[1;32m    174\u001B[0m     \u001B[38;5;66;03m# subroutine to get geometry for every edge: if edge already has\u001B[39;00m\n\u001B[1;32m    175\u001B[0m     \u001B[38;5;66;03m# geometry return it, otherwise create it using the incident nodes\u001B[39;00m\n",
      "\u001B[0;31mValueError\u001B[0m: Graph contains no edges."
     ]
    }
   ],
   "execution_count": 58
  },
  {
   "metadata": {
    "ExecuteTime": {
     "end_time": "2024-12-10T10:22:39.979498Z",
     "start_time": "2024-12-10T10:22:39.973626Z"
    }
   },
   "cell_type": "code",
   "source": "print(len(all_walk))",
   "id": "2aa2eedd572b4d70",
   "outputs": [
    {
     "name": "stdout",
     "output_type": "stream",
     "text": [
      "78\n"
     ]
    }
   ],
   "execution_count": 56
  },
  {
   "metadata": {
    "ExecuteTime": {
     "end_time": "2024-12-10T10:17:41.307235Z",
     "start_time": "2024-12-10T10:17:41.302486Z"
    }
   },
   "cell_type": "code",
   "source": [
    "path_lengths = {\n",
    "    'small': (10000, 20000),\n",
    "    'medium': (20000, 80000),\n",
    "    'large': (80000, 250000),\n",
    "    'XL': (250000, 750000)\n",
    "}\n",
    "\n",
    "num_samples = 5"
   ],
   "id": "d7a263bdf274c3aa",
   "outputs": [],
   "execution_count": 46
  },
  {
   "metadata": {
    "ExecuteTime": {
     "end_time": "2024-12-10T10:17:42.165230Z",
     "start_time": "2024-12-10T10:17:42.139266Z"
    }
   },
   "cell_type": "code",
   "source": [
    "categorized_paths = {category: [] for category in path_lengths}\n",
    "\n",
    "# Categorize paths\n",
    "for walk in all_walk:\n",
    "    for category, (min_length, max_length) in path_lengths.items():\n",
    "        if min_length <= walk[\"route_length\"] <= max_length:\n",
    "            categorized_paths[category].append(walk)\n",
    "\n",
    "# Select random samples from each category\n",
    "selected_paths = {}\n",
    "for category, paths in categorized_paths.items():\n",
    "    selected_paths[category] = random.sample(paths, min(len(paths), num_samples))"
   ],
   "id": "5c1f430bc185cc9f",
   "outputs": [],
   "execution_count": 47
  },
  {
   "metadata": {
    "ExecuteTime": {
     "end_time": "2024-12-10T10:17:42.830009Z",
     "start_time": "2024-12-10T10:17:42.825657Z"
    }
   },
   "cell_type": "code",
   "source": [
    "for category, paths in selected_paths.items():\n",
    "    print(f\"{category.capitalize()} paths:\")\n",
    "    for path in paths:\n",
    "        print(f\"  - {path['route']} ({path['route_length']} km)\")\n",
    "    print()"
   ],
   "id": "c3dd07630d2a2f3a",
   "outputs": [
    {
     "name": "stdout",
     "output_type": "stream",
     "text": [
      "Small paths:\n",
      "  - [349126490, 9939289665, 1519122647, 6227305413, 6030018628, 6030018629, 6030018677, 9579857815, 9579857810] (11117.569982007097 km)\n",
      "  - [349126490, 9939289665, 1519122647, 6227305413, 6030018628, 6030018629, 6030018677, 452017426, 452017371] (15089.206223907511 km)\n",
      "  - [349126490, 9939289665, 1519122647, 6227305413, 6030018628, 6030018629, 6030018792, 5132776887, 5132776883] (15950.47645059133 km)\n",
      "  - [349126490, 9939289665, 1519122647, 6227305413, 6030018628, 6030018629, 6030018677, 452017426, 1207067950] (17624.10154711795 km)\n",
      "\n",
      "Medium paths:\n",
      "  - [349126490, 9939289665, 1519122647, 6227305413, 6030018628, 6030018629, 6030018677, 452017426, 2211563011, 2211572327] (51420.74766408036 km)\n",
      "  - [349126490, 9939289665, 1519122647, 6227305413, 6030018628, 1185821004, 1519122650, 11542200064, 9939289658, 1185820929, 2314649604, 2290795745, 2290795733, 2290795728, 2290795748, 1185821132, 1519122460] (43388.30387552747 km)\n",
      "  - [349126490, 9939289665, 1519122647, 6227305413, 6030018628, 6030018629, 6030018792, 5132776887, 1185790432, 4842689045, 4842689035, 349126632, 4975712166, 4975712163] (42452.85136756438 km)\n",
      "  - [349126490, 9939289665, 1519122647, 6227305413, 6030018628, 1185821004, 1519122650, 11542200064, 9939289658, 1185820929, 9697236833, 2314649613, 9697236856, 9697236835] (20246.067847241364 km)\n",
      "  - [349126490, 9939289665, 1519122647, 6227305413, 6030018628, 6030018629, 6030018792, 5132776887, 1185790432, 4842689045, 4842689035, 349126632, 4975712166, 4975712172, 349133190, 1185775455, 1185775499] (52549.99822890897 km)\n",
      "\n",
      "Large paths:\n",
      "  - [349126490, 9939289665, 1519122647, 6227305413, 6030018628, 6030018629, 6030018792, 5132776887, 1185790432, 4842689045, 4842689035, 349126632, 4975712166, 4975712172, 349133190, 1185775455, 2324398185, 2344675207, 2324398225, 8763339071, 8763339052, 1185763248, 2324398486, 3663198486, 3663198490, 3663198478] (87031.464524202 km)\n",
      "  - [349126490, 9939289665, 1519122647, 6227305413, 6030018628, 6030018629, 6030018677, 452017426, 2211563011, 2211562997, 3897782667, 3897782683, 2314649635, 2338879758, 4846661825, 4846661827, 4846661824, 4846661826, 349132928, 2283838105, 2973620105, 2973620107, 30608743] (118967.10280330967 km)\n",
      "  - [349126490, 9939289665, 1519122647, 6227305413, 6030018628, 6030018629, 6030018677, 452017426, 2211563011, 2211562997, 3897782667, 3897782683, 2314649635, 2338879758, 4846661825, 4846661827, 4846661824, 4846661826, 349132928, 2283838105, 2973620105, 2973620107, 2973620101, 2973620099] (118879.77934916341 km)\n",
      "  - [349126490, 9939289665, 1519122647, 6227305413, 6030018628, 6030018629, 6030018677, 452017426, 2211563011, 2211562997, 3897782667, 3897782683, 2314649635, 2338879758, 4846661825, 4846661827, 4846661824, 2332043902, 2332101739, 5239323048, 1906497544] (117502.3664450791 km)\n",
      "  - [349126490, 9939289665, 1519122647, 6227305413, 6030018628, 6030018629, 6030018677, 452017426, 2211563011, 2211562997, 3897782667, 3897782683, 2314649635, 2338879768, 2314649899, 2973620078, 2973620082, 2973620083, 2973620081, 2283837797, 2283820826, 5494092732, 5494092729, 2331849126, 2331679986, 2331673960, 2331674067, 4905556918] (198925.67159277745 km)\n",
      "\n",
      "Xl paths:\n",
      "\n"
     ]
    }
   ],
   "execution_count": 48
  },
  {
   "metadata": {
    "ExecuteTime": {
     "end_time": "2024-12-10T10:09:35.070512Z",
     "start_time": "2024-12-10T10:09:35.065819Z"
    }
   },
   "cell_type": "code",
   "source": "walk = longest_walk",
   "id": "a675bbde83e81bab",
   "outputs": [],
   "execution_count": 31
  },
  {
   "metadata": {
    "ExecuteTime": {
     "end_time": "2024-12-10T09:51:31.609288Z",
     "start_time": "2024-12-10T09:51:31.605275Z"
    }
   },
   "cell_type": "code",
   "source": [
    "for node in walk:\n",
    "    if node not in G.nodes:\n",
    "        print(f\"Invalid node in path: {node}\")\n",
    "\n",
    "print(len(walk))\n",
    "print(len(set(walk)))"
   ],
   "id": "f9df25ca79dce1ca",
   "outputs": [
    {
     "name": "stdout",
     "output_type": "stream",
     "text": [
      "31\n",
      "31\n"
     ]
    }
   ],
   "execution_count": 16
  },
  {
   "metadata": {
    "ExecuteTime": {
     "end_time": "2024-12-10T09:51:32.361041Z",
     "start_time": "2024-12-10T09:51:32.310697Z"
    }
   },
   "cell_type": "code",
   "source": [
    "from networkx.algorithms.components import is_connected, connected_components\n",
    "\n",
    "sub_graph = graph.subgraph(walk)\n",
    "sub_graph = ox.convert.to_undirected(sub_graph)\n",
    "print(is_connected(sub_graph))"
   ],
   "id": "f6e660dd8f94cc5e",
   "outputs": [
    {
     "name": "stdout",
     "output_type": "stream",
     "text": [
      "True\n"
     ]
    }
   ],
   "execution_count": 17
  },
  {
   "metadata": {
    "ExecuteTime": {
     "end_time": "2024-12-10T09:51:33.125896Z",
     "start_time": "2024-12-10T09:51:32.883956Z"
    }
   },
   "cell_type": "code",
   "source": [
    "# fig,ax = ox.plot.plot_graph(sub_graph, edge_color='blue', node_color='red', node_size=50, edge_linewidth=3)\n",
    "route = ox.routing.route_to_gdf(graph,walk)\n",
    "route = route.to_crs(epsg=4326)\n",
    "route.plot()\n",
    "print(sum(route['length']))\n",
    "# ox.plot_graph_route(sub_graph, walk, route_color='yellow')\n",
    "plt.show()"
   ],
   "id": "39cfb20f3050676f",
   "outputs": [
    {
     "name": "stdout",
     "output_type": "stream",
     "text": [
      "87939.35587409587\n"
     ]
    },
    {
     "data": {
      "text/plain": [
       "<Figure size 640x480 with 1 Axes>"
      ],
      "image/png": "[encoded data removed]"
     },
     "metadata": {},
     "output_type": "display_data"
    }
   ],
   "execution_count": 18
  },
  {
   "metadata": {},
   "cell_type": "code",
   "outputs": [],
   "execution_count": null,
   "source": "    ",
   "id": "5103bf3c90dc9856"
  }
 ],
 "metadata": {
  "kernelspec": {
   "display_name": "Python 3",
   "language": "python",
   "name": "python3"
  },
  "language_info": {
   "codemirror_mode": {
    "name": "ipython",
    "version": 2
   },
   "file_extension": ".py",
   "mimetype": "text/x-python",
   "name": "python",
   "nbconvert_exporter": "python",
   "pygments_lexer": "ipython2",
   "version": "2.7.6"
  }
 },
 "nbformat": 4,
 "nbformat_minor": 5
}
