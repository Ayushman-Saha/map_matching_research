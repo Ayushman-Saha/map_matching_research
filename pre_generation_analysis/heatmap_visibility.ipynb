{
 "cells": [
  {
   "cell_type": "code",
   "execution_count": 1,
   "metadata": {},
   "outputs": [],
   "source": [
    "import folium\n",
    "import pandas as pd\n",
    "import numpy as np\n",
    "import osmnx as ox\n",
    "from shapely.geometry import Point\n"
   ]
  },
  {
   "cell_type": "code",
   "execution_count": 2,
   "metadata": {},
   "outputs": [],
   "source": [
    "graph = ox.io.load_graphml(\"C:/Users/keyas/OneDrive/Documents/sih/map_matching_research/data/merged_graph.graphml\")\n",
    "# graph = ox.convert.to_undirected(graph)"
   ]
  },
  {
   "cell_type": "code",
   "execution_count": 3,
   "metadata": {},
   "outputs": [],
   "source": [
    "nodes, edges = ox.graph_to_gdfs(graph)"
   ]
  },
  {
   "cell_type": "code",
   "execution_count": 4,
   "metadata": {},
   "outputs": [],
   "source": [
    "for month in ['avg_visibility_January', 'avg_visibility_February', 'avg_visibility_March',\n",
    "              'avg_visibility_April', 'avg_visibility_May', 'avg_visibility_June',\n",
    "              'avg_visibility_July', 'avg_visibility_August', 'avg_visibility_September',\n",
    "              'avg_visibility_October', 'avg_visibility_November', 'avg_visibility_December']:\n",
    "    nodes[month] = pd.to_numeric(nodes[month], errors='coerce')\n",
    "season_mapping = {\n",
    "    'winter': ['November', 'December', 'January', 'February'],\n",
    "    'spring': ['March', 'April', 'May'],\n",
    "    'summer': ['June', 'July', 'August'],\n",
    "    'autumn': ['September', 'October', 'November']\n",
    "}\n"
   ]
  },
  {
   "cell_type": "code",
   "execution_count": 5,
   "metadata": {},
   "outputs": [
    {
     "name": "stdout",
     "output_type": "stream",
     "text": [
      "Index(['y', 'x', 'street_count', 'avg_visibility_January',\n",
      "       'avg_rainfall_January', 'avg_cloud_cover_January',\n",
      "       'avg_visibility_February', 'avg_rainfall_February',\n",
      "       'avg_cloud_cover_February', 'avg_visibility_March',\n",
      "       'avg_rainfall_March', 'avg_cloud_cover_March', 'avg_visibility_April',\n",
      "       'avg_rainfall_April', 'avg_cloud_cover_April', 'avg_visibility_May',\n",
      "       'avg_rainfall_May', 'avg_cloud_cover_May', 'avg_visibility_June',\n",
      "       'avg_rainfall_June', 'avg_cloud_cover_June', 'avg_visibility_July',\n",
      "       'avg_rainfall_July', 'avg_cloud_cover_July', 'avg_visibility_August',\n",
      "       'avg_rainfall_August', 'avg_cloud_cover_August',\n",
      "       'avg_visibility_September', 'avg_rainfall_September',\n",
      "       'avg_cloud_cover_September', 'avg_visibility_October',\n",
      "       'avg_rainfall_October', 'avg_cloud_cover_October',\n",
      "       'avg_visibility_November', 'avg_rainfall_November',\n",
      "       'avg_cloud_cover_November', 'avg_visibility_December',\n",
      "       'avg_rainfall_December', 'avg_cloud_cover_December', 'highway',\n",
      "       'junction', 'railway', 'ref', 'geometry'],\n",
      "      dtype='object')\n"
     ]
    }
   ],
   "source": [
    "print(nodes.columns)"
   ]
  },
  {
   "cell_type": "code",
   "execution_count": 6,
   "metadata": {},
   "outputs": [],
   "source": [
    "def calculate_seasonal_visibility(node_df, season_mapping):\n",
    "    for season, months in season_mapping.items():\n",
    "        visibility_columns = [f'avg_visibility_{month}' for month in months]\n",
    "        node_df[f'avg_visibility_{season}'] = node_df[visibility_columns].mean(axis=1)\n",
    "    return node_df"
   ]
  },
  {
   "cell_type": "code",
   "execution_count": 7,
   "metadata": {},
   "outputs": [],
   "source": [
    "nodes = calculate_seasonal_visibility(nodes, season_mapping)"
   ]
  },
  {
   "cell_type": "code",
   "execution_count": 8,
   "metadata": {},
   "outputs": [],
   "source": [
    "def visibility_to_color(visibility, min_visibility, max_visibility):\n",
    "    if pd.isna(visibility):  \n",
    "        return '#FFFFFF'  # white for missing data\n",
    "    normalized_visibility = (visibility - min_visibility) / (max_visibility - min_visibility)\n",
    "    colormap = folium.LinearColormap(['#ff0000', '#ffff00'], vmin=0, vmax=1)\n",
    "    return colormap(normalized_visibility)"
   ]
  },
  {
   "cell_type": "code",
   "execution_count": 9,
   "metadata": {},
   "outputs": [
    {
     "name": "stdout",
     "output_type": "stream",
     "text": [
      "Generating heatmap for winter (min: 1.4296647172353683, max: 13.168828097446646)\n",
      "Heatmap for winter saved as winter_visibility_heatmap.html\n",
      "Generating heatmap for spring (min: 3.9472811080027217, max: 13.798242286623102)\n",
      "Heatmap for spring saved as spring_visibility_heatmap.html\n",
      "Generating heatmap for summer (min: 2.4463975694157827, max: 14.373184310606831)\n",
      "Heatmap for summer saved as summer_visibility_heatmap.html\n",
      "Generating heatmap for autumn (min: 3.0527767438915863, max: 12.823781085272424)\n",
      "Heatmap for autumn saved as autumn_visibility_heatmap.html\n"
     ]
    }
   ],
   "source": [
    "for season in season_mapping.keys():\n",
    "    visibility_column = f'avg_visibility_{season}'\n",
    "    min_visibility = nodes[visibility_column].min()\n",
    "    max_visibility = nodes[visibility_column].max()\n",
    "    \n",
    "    print(f\"Generating heatmap for {season} (min: {min_visibility}, max: {max_visibility})\")\n",
    "\n",
    "    m = folium.Map(location=[nodes['y'].mean(), nodes['x'].mean()], zoom_start=12)\n",
    "    \n",
    "    for node in nodes.index:\n",
    "        visibility = nodes.loc[node, visibility_column]\n",
    "        if pd.isna(visibility):\n",
    "            continue\n",
    "        \n",
    "        lat, lon = nodes.loc[node, ['y', 'x']]\n",
    "        color = visibility_to_color(visibility, min_visibility, max_visibility)\n",
    "        \n",
    "        folium.CircleMarker(\n",
    "            location=[lat, lon],\n",
    "            radius=5,\n",
    "            color=color,\n",
    "            fill=True,\n",
    "            fill_color=color,\n",
    "            fill_opacity=0.7,\n",
    "            popup=f\"Node: {node}, Visibility: {visibility:.2f} mm\"\n",
    "        ).add_to(m)\n",
    "    \n",
    "    file_name = f\"{season}_visibility_heatmap.html\"\n",
    "    m.save(file_name)\n",
    "    print(f\"Heatmap for {season} saved as {file_name}\")\n",
    "    m"
   ]
  }
 ],
 "metadata": {
  "kernelspec": {
   "display_name": "Python 3",
   "language": "python",
   "name": "python3"
  },
  "language_info": {
   "codemirror_mode": {
    "name": "ipython",
    "version": 3
   },
   "file_extension": ".py",
   "mimetype": "text/x-python",
   "name": "python",
   "nbconvert_exporter": "python",
   "pygments_lexer": "ipython3",
   "version": "3.12.5"
  }
 },
 "nbformat": 4,
 "nbformat_minor": 2
}
