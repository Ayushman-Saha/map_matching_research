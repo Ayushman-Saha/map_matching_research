{
 "cells": [
  {
   "cell_type": "code",
   "execution_count": 1,
   "metadata": {},
   "outputs": [],
   "source": [
    "from math import floor\n",
    "\n",
    "import folium\n",
    "import pandas as pd\n",
    "from bson import ObjectId\n",
    "import numpy as np\n",
    "from pymongo import MongoClient\n",
    "import networkx as nx\n",
    "import osmnx as ox\n",
    "import matplotlib.pyplot as plt\n",
    "import geopandas as gpd\n",
    "from pyproj import Transformer\n",
    "from shapely.geometry.linestring import LineString\n",
    "from shapely.geometry.multilinestring import MultiLineString\n",
    "from shapely.geometry.point import Point\n",
    "from folium import plugins\n",
    "from folium import LinearColormap\n",
    "from matplotlib import colors as mcolors\n",
    "from folium.plugins import HeatMap"
   ]
  },
  {
   "cell_type": "code",
   "execution_count": 2,
   "metadata": {},
   "outputs": [],
   "source": [
    "graph = ox.io.load_graphml(\"C:/Users/keyas/OneDrive/Documents/sih/map_matching_research/data/merged_graph.graphml\")\n",
    "# graph = ox.convert.to_undirected(graph)"
   ]
  },
  {
   "cell_type": "code",
   "execution_count": 3,
   "metadata": {},
   "outputs": [
    {
     "name": "stdout",
     "output_type": "stream",
     "text": [
      "7.018716577540105\n"
     ]
    }
   ],
   "source": [
    "nodes, edges = ox.graph_to_gdfs(graph)\n",
    "print(nodes['avg_visibility_January'].iloc[0])\n"
   ]
  },
  {
   "cell_type": "code",
   "execution_count": 4,
   "metadata": {},
   "outputs": [],
   "source": [
    "for month in ['avg_rainfall_January', 'avg_rainfall_February', 'avg_rainfall_March',\n",
    "              'avg_rainfall_April', 'avg_rainfall_May', 'avg_rainfall_June',\n",
    "              'avg_rainfall_July', 'avg_rainfall_August', 'avg_rainfall_September',\n",
    "              'avg_rainfall_October', 'avg_rainfall_November', 'avg_rainfall_December']:\n",
    "    nodes[month] = pd.to_numeric(nodes[month], errors='coerce')\n",
    "season_mapping = {\n",
    "    'winter': ['November', 'December', 'January', 'February'],\n",
    "    'spring': ['March', 'April', 'May'],\n",
    "    'summer': ['June', 'July', 'August'],\n",
    "    'autumn': ['September', 'October', 'November']\n",
    "}"
   ]
  },
  {
   "cell_type": "code",
   "execution_count": 5,
   "metadata": {},
   "outputs": [],
   "source": [
    "def calculate_seasonal_rainfall(node_df, season_mapping):\n",
    "    for season, months in season_mapping.items():\n",
    "        rainfall_columns = [f'avg_rainfall_{month}' for month in months]\n",
    "        node_df[f'avg_rainfall_{season}'] = node_df[rainfall_columns].mean(axis=1)\n",
    "    return node_df"
   ]
  },
  {
   "cell_type": "code",
   "execution_count": 6,
   "metadata": {},
   "outputs": [],
   "source": [
    "nodes = calculate_seasonal_rainfall(nodes, season_mapping)\n"
   ]
  },
  {
   "cell_type": "code",
   "execution_count": 7,
   "metadata": {},
   "outputs": [],
   "source": [
    "def rainfall_to_color(rainfall, min_rainfall, max_rainfall):\n",
    "    if pd.isna(rainfall):  \n",
    "        return '#FFFFFF'  # white for missing data\n",
    "    normalized_rainfall = (rainfall - min_rainfall) / (max_rainfall - min_rainfall)\n",
    "    colormap = folium.LinearColormap(['#ff0000', '#ffff00'], vmin=0, vmax=1)\n",
    "    return colormap(normalized_rainfall)\n"
   ]
  },
  {
   "cell_type": "code",
   "execution_count": 8,
   "metadata": {},
   "outputs": [
    {
     "name": "stdout",
     "output_type": "stream",
     "text": [
      "Generating heatmap for winter (min: 0.030137130801687673, max: 4.859999999999998)\n",
      "Heatmap for winter saved as winter_rainfall_heatmap.html\n",
      "Generating heatmap for spring (min: 0.016560846560846467, max: 11.154501915708813)\n",
      "Heatmap for spring saved as spring_rainfall_heatmap.html\n",
      "Generating heatmap for summer (min: 0.17666666666666656, max: 26.775555555555552)\n",
      "Heatmap for summer saved as summer_rainfall_heatmap.html\n",
      "Generating heatmap for autumn (min: 0.08222222222222213, max: 8.607777777777777)\n",
      "Heatmap for autumn saved as autumn_rainfall_heatmap.html\n"
     ]
    }
   ],
   "source": [
    "for season in season_mapping.keys():\n",
    "    rainfall_column = f'avg_rainfall_{season}'\n",
    "    min_rainfall = nodes[rainfall_column].min()\n",
    "    max_rainfall = nodes[rainfall_column].max()\n",
    "    \n",
    "    print(f\"Generating heatmap for {season} (min: {min_rainfall}, max: {max_rainfall})\")\n",
    "\n",
    "    m = folium.Map(location=[nodes['y'].mean(), nodes['x'].mean()], zoom_start=12)\n",
    "    \n",
    "    for node in nodes.index:\n",
    "        rainfall = nodes.loc[node, rainfall_column]\n",
    "        if pd.isna(rainfall):\n",
    "            continue\n",
    "        \n",
    "        lat, lon = nodes.loc[node, ['y', 'x']]\n",
    "        color = rainfall_to_color(rainfall, min_rainfall, max_rainfall)\n",
    "        \n",
    "        folium.CircleMarker(\n",
    "            location=[lat, lon],\n",
    "            radius=5,\n",
    "            color=color,\n",
    "            fill=True,\n",
    "            fill_color=color,\n",
    "            fill_opacity=0.7,\n",
    "            popup=f\"Node: {node}, Rainfall: {rainfall:.2f} mm\"\n",
    "        ).add_to(m)\n",
    "    \n",
    "    file_name = f\"{season}_rainfall_heatmap.html\"\n",
    "    m.save(file_name)\n",
    "    print(f\"Heatmap for {season} saved as {file_name}\")\n",
    "    m"
   ]
  },
  {
   "cell_type": "code",
   "execution_count": 9,
   "metadata": {},
   "outputs": [],
   "source": [
    "# for low rainfall = red, high rainfall = yellow"
   ]
  }
 ],
 "metadata": {
  "kernelspec": {
   "display_name": "Python 3",
   "language": "python",
   "name": "python3"
  },
  "language_info": {
   "codemirror_mode": {
    "name": "ipython",
    "version": 3
   },
   "file_extension": ".py",
   "mimetype": "text/x-python",
   "name": "python",
   "nbconvert_exporter": "python",
   "pygments_lexer": "ipython3",
   "version": "3.12.5"
  }
 },
 "nbformat": 4,
 "nbformat_minor": 2
}
